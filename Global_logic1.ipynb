{
 "cells": [
  {
   "cell_type": "code",
   "execution_count": null,
   "metadata": {},
   "outputs": [],
   "source": [
    "import random\n",
    "account = 1000\n",
    "a=random.randint(0,9)\n",
    "while True:\n",
    "    print(\"Do you want to play :y/n\")\n",
    "    c=input()\n",
    "    if c=='y':\n",
    "        account-=10\n",
    "        print(\"enter a number:\")\n",
    "        b=input()\n",
    "        if a==b:\n",
    "            print(\"Woah you won a lottery!\")\n",
    "        else:\n",
    "            print(\"Better luck next time!!\")\n",
    "    else:\n",
    "        break\n"
   ]
  }
 ],
 "metadata": {
  "kernelspec": {
   "display_name": "Python 3",
   "language": "python",
   "name": "python3"
  },
  "language_info": {
   "codemirror_mode": {
    "name": "ipython",
    "version": 3
   },
   "file_extension": ".py",
   "mimetype": "text/x-python",
   "name": "python",
   "nbconvert_exporter": "python",
   "pygments_lexer": "ipython3",
   "version": "3.7.6"
  }
 },
 "nbformat": 4,
 "nbformat_minor": 4
}
